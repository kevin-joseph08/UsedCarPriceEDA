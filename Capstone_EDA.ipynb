{
  "cells": [
    {
      "cell_type": "markdown",
      "metadata": {
        "id": "uDIBZ9pKu8zq"
      },
      "source": [
        "#Capstone Project: EDA and Initial Report\n",
        "**Overview**: In this project our goal is to create a model that can accurately predict the sale price of a car. As such we have selected a dataset that contains a significat amount of data about the car being sold. We will create 4 different models, LinearRegression, DecisionTree, RandomForest, and XGBoost.\n",
        "\n",
        "**Data:**\n",
        "Our dataset can be found [here](https://www.kaggle.com/datasets/imgowthamg/car-price/data) and contains data on categories such as wheelbase, weight, horsepower, and much more."
      ]
    },
    {
      "cell_type": "markdown",
      "metadata": {
        "editable": true,
        "id": "7n4sjVTI8QUm",
        "tags": []
      },
      "source": [
        "## Importing and Reading Data"
      ]
    },
    {
      "cell_type": "code",
      "execution_count": 1,
      "metadata": {
        "editable": true,
        "id": "141cbqaLuht6",
        "tags": []
      },
      "outputs": [],
      "source": [
        "import warnings\n",
        "import pandas as pd\n",
        "import numpy as np\n",
        "import matplotlib.pyplot as plt\n",
        "import seaborn as sns\n",
        "\n",
        "from sklearn.preprocessing import StandardScaler, LabelEncoder\n",
        "from sklearn.model_selection import train_test_split, GridSearchCV\n",
        "from sklearn.metrics import accuracy_score, mean_squared_error\n",
        "from sklearn.linear_model import LinearRegression\n",
        "from sklearn.tree import DecisionTreeRegressor\n",
        "from sklearn.ensemble import RandomForestRegressor\n",
        "from sklearn.compose import ColumnTransformer\n",
        "from sklearn.preprocessing import OrdinalEncoder\n",
        "import xgboost as XGBoost\n",
        "\n",
        "warnings.filterwarnings('ignore')"
      ]
    },
    {
      "cell_type": "code",
      "execution_count": 2,
      "metadata": {
        "id": "TdKBjkDD7_5S"
      },
      "outputs": [],
      "source": [
        "train = pd.read_csv('train-data.csv')\n",
        "test =  pd.read_csv('test-data.csv')"
      ]
    },
    {
      "cell_type": "code",
      "execution_count": 3,
      "metadata": {
        "colab": {
          "base_uri": "https://localhost:8080/",
          "height": 206
        },
        "id": "ivL5O0a08jSd",
        "outputId": "b009f1d5-05e0-4ea6-ff51-21e5374c1027"
      },
      "outputs": [
        {
          "output_type": "execute_result",
          "data": {
            "text/plain": [
              "   Unnamed: 0                              Name    Location  Year  \\\n",
              "0           0            Maruti Wagon R LXI CNG      Mumbai  2010   \n",
              "1           1  Hyundai Creta 1.6 CRDi SX Option        Pune  2015   \n",
              "2           2                      Honda Jazz V     Chennai  2011   \n",
              "3           3                 Maruti Ertiga VDI     Chennai  2012   \n",
              "4           4   Audi A4 New 2.0 TDI Multitronic  Coimbatore  2013   \n",
              "\n",
              "   Kilometers_Driven Fuel_Type Transmission Owner_Type     Mileage   Engine  \\\n",
              "0              72000       CNG       Manual      First  26.6 km/kg   998 CC   \n",
              "1              41000    Diesel       Manual      First  19.67 kmpl  1582 CC   \n",
              "2              46000    Petrol       Manual      First   18.2 kmpl  1199 CC   \n",
              "3              87000    Diesel       Manual      First  20.77 kmpl  1248 CC   \n",
              "4              40670    Diesel    Automatic     Second   15.2 kmpl  1968 CC   \n",
              "\n",
              "       Power  Seats  New_Price  Price  \n",
              "0  58.16 bhp    5.0        NaN   1.75  \n",
              "1  126.2 bhp    5.0        NaN  12.50  \n",
              "2   88.7 bhp    5.0  8.61 Lakh   4.50  \n",
              "3  88.76 bhp    7.0        NaN   6.00  \n",
              "4  140.8 bhp    5.0        NaN  17.74  "
            ],
            "text/html": [
              "<div>\n",
              "<style scoped>\n",
              "    .dataframe tbody tr th:only-of-type {\n",
              "        vertical-align: middle;\n",
              "    }\n",
              "\n",
              "    .dataframe tbody tr th {\n",
              "        vertical-align: top;\n",
              "    }\n",
              "\n",
              "    .dataframe thead th {\n",
              "        text-align: right;\n",
              "    }\n",
              "</style>\n",
              "<table border=\"1\" class=\"dataframe\">\n",
              "  <thead>\n",
              "    <tr style=\"text-align: right;\">\n",
              "      <th></th>\n",
              "      <th>Unnamed: 0</th>\n",
              "      <th>Name</th>\n",
              "      <th>Location</th>\n",
              "      <th>Year</th>\n",
              "      <th>Kilometers_Driven</th>\n",
              "      <th>Fuel_Type</th>\n",
              "      <th>Transmission</th>\n",
              "      <th>Owner_Type</th>\n",
              "      <th>Mileage</th>\n",
              "      <th>Engine</th>\n",
              "      <th>Power</th>\n",
              "      <th>Seats</th>\n",
              "      <th>New_Price</th>\n",
              "      <th>Price</th>\n",
              "    </tr>\n",
              "  </thead>\n",
              "  <tbody>\n",
              "    <tr>\n",
              "      <th>0</th>\n",
              "      <td>0</td>\n",
              "      <td>Maruti Wagon R LXI CNG</td>\n",
              "      <td>Mumbai</td>\n",
              "      <td>2010</td>\n",
              "      <td>72000</td>\n",
              "      <td>CNG</td>\n",
              "      <td>Manual</td>\n",
              "      <td>First</td>\n",
              "      <td>26.6 km/kg</td>\n",
              "      <td>998 CC</td>\n",
              "      <td>58.16 bhp</td>\n",
              "      <td>5.0</td>\n",
              "      <td>NaN</td>\n",
              "      <td>1.75</td>\n",
              "    </tr>\n",
              "    <tr>\n",
              "      <th>1</th>\n",
              "      <td>1</td>\n",
              "      <td>Hyundai Creta 1.6 CRDi SX Option</td>\n",
              "      <td>Pune</td>\n",
              "      <td>2015</td>\n",
              "      <td>41000</td>\n",
              "      <td>Diesel</td>\n",
              "      <td>Manual</td>\n",
              "      <td>First</td>\n",
              "      <td>19.67 kmpl</td>\n",
              "      <td>1582 CC</td>\n",
              "      <td>126.2 bhp</td>\n",
              "      <td>5.0</td>\n",
              "      <td>NaN</td>\n",
              "      <td>12.50</td>\n",
              "    </tr>\n",
              "    <tr>\n",
              "      <th>2</th>\n",
              "      <td>2</td>\n",
              "      <td>Honda Jazz V</td>\n",
              "      <td>Chennai</td>\n",
              "      <td>2011</td>\n",
              "      <td>46000</td>\n",
              "      <td>Petrol</td>\n",
              "      <td>Manual</td>\n",
              "      <td>First</td>\n",
              "      <td>18.2 kmpl</td>\n",
              "      <td>1199 CC</td>\n",
              "      <td>88.7 bhp</td>\n",
              "      <td>5.0</td>\n",
              "      <td>8.61 Lakh</td>\n",
              "      <td>4.50</td>\n",
              "    </tr>\n",
              "    <tr>\n",
              "      <th>3</th>\n",
              "      <td>3</td>\n",
              "      <td>Maruti Ertiga VDI</td>\n",
              "      <td>Chennai</td>\n",
              "      <td>2012</td>\n",
              "      <td>87000</td>\n",
              "      <td>Diesel</td>\n",
              "      <td>Manual</td>\n",
              "      <td>First</td>\n",
              "      <td>20.77 kmpl</td>\n",
              "      <td>1248 CC</td>\n",
              "      <td>88.76 bhp</td>\n",
              "      <td>7.0</td>\n",
              "      <td>NaN</td>\n",
              "      <td>6.00</td>\n",
              "    </tr>\n",
              "    <tr>\n",
              "      <th>4</th>\n",
              "      <td>4</td>\n",
              "      <td>Audi A4 New 2.0 TDI Multitronic</td>\n",
              "      <td>Coimbatore</td>\n",
              "      <td>2013</td>\n",
              "      <td>40670</td>\n",
              "      <td>Diesel</td>\n",
              "      <td>Automatic</td>\n",
              "      <td>Second</td>\n",
              "      <td>15.2 kmpl</td>\n",
              "      <td>1968 CC</td>\n",
              "      <td>140.8 bhp</td>\n",
              "      <td>5.0</td>\n",
              "      <td>NaN</td>\n",
              "      <td>17.74</td>\n",
              "    </tr>\n",
              "  </tbody>\n",
              "</table>\n",
              "</div>"
            ]
          },
          "metadata": {},
          "execution_count": 3
        }
      ],
      "source": [
        "train.head()"
      ]
    },
    {
      "cell_type": "code",
      "execution_count": 4,
      "metadata": {
        "colab": {
          "base_uri": "https://localhost:8080/",
          "height": 206
        },
        "id": "4Fas6hCGQBMV",
        "outputId": "80aa32b1-d4ce-423c-9aee-89f3ce0a26ed"
      },
      "outputs": [
        {
          "output_type": "execute_result",
          "data": {
            "text/plain": [
              "   Unnamed: 0                                       Name    Location  Year  \\\n",
              "0           0                    Maruti Alto K10 LXI CNG       Delhi  2014   \n",
              "1           1              Maruti Alto 800 2016-2019 LXI  Coimbatore  2013   \n",
              "2           2  Toyota Innova Crysta Touring Sport 2.4 MT      Mumbai  2017   \n",
              "3           3                       Toyota Etios Liva GD   Hyderabad  2012   \n",
              "4           4                          Hyundai i20 Magna      Mumbai  2014   \n",
              "\n",
              "   Kilometers_Driven Fuel_Type Transmission Owner_Type      Mileage   Engine  \\\n",
              "0              40929       CNG       Manual      First  32.26 km/kg   998 CC   \n",
              "1              54493    Petrol       Manual     Second    24.7 kmpl   796 CC   \n",
              "2              34000    Diesel       Manual      First   13.68 kmpl  2393 CC   \n",
              "3             139000    Diesel       Manual      First   23.59 kmpl  1364 CC   \n",
              "4              29000    Petrol       Manual      First    18.5 kmpl  1197 CC   \n",
              "\n",
              "       Power  Seats   New_Price  \n",
              "0   58.2 bhp    4.0         NaN  \n",
              "1   47.3 bhp    5.0         NaN  \n",
              "2  147.8 bhp    7.0  25.27 Lakh  \n",
              "3   null bhp    5.0         NaN  \n",
              "4  82.85 bhp    5.0         NaN  "
            ],
            "text/html": [
              "<div>\n",
              "<style scoped>\n",
              "    .dataframe tbody tr th:only-of-type {\n",
              "        vertical-align: middle;\n",
              "    }\n",
              "\n",
              "    .dataframe tbody tr th {\n",
              "        vertical-align: top;\n",
              "    }\n",
              "\n",
              "    .dataframe thead th {\n",
              "        text-align: right;\n",
              "    }\n",
              "</style>\n",
              "<table border=\"1\" class=\"dataframe\">\n",
              "  <thead>\n",
              "    <tr style=\"text-align: right;\">\n",
              "      <th></th>\n",
              "      <th>Unnamed: 0</th>\n",
              "      <th>Name</th>\n",
              "      <th>Location</th>\n",
              "      <th>Year</th>\n",
              "      <th>Kilometers_Driven</th>\n",
              "      <th>Fuel_Type</th>\n",
              "      <th>Transmission</th>\n",
              "      <th>Owner_Type</th>\n",
              "      <th>Mileage</th>\n",
              "      <th>Engine</th>\n",
              "      <th>Power</th>\n",
              "      <th>Seats</th>\n",
              "      <th>New_Price</th>\n",
              "    </tr>\n",
              "  </thead>\n",
              "  <tbody>\n",
              "    <tr>\n",
              "      <th>0</th>\n",
              "      <td>0</td>\n",
              "      <td>Maruti Alto K10 LXI CNG</td>\n",
              "      <td>Delhi</td>\n",
              "      <td>2014</td>\n",
              "      <td>40929</td>\n",
              "      <td>CNG</td>\n",
              "      <td>Manual</td>\n",
              "      <td>First</td>\n",
              "      <td>32.26 km/kg</td>\n",
              "      <td>998 CC</td>\n",
              "      <td>58.2 bhp</td>\n",
              "      <td>4.0</td>\n",
              "      <td>NaN</td>\n",
              "    </tr>\n",
              "    <tr>\n",
              "      <th>1</th>\n",
              "      <td>1</td>\n",
              "      <td>Maruti Alto 800 2016-2019 LXI</td>\n",
              "      <td>Coimbatore</td>\n",
              "      <td>2013</td>\n",
              "      <td>54493</td>\n",
              "      <td>Petrol</td>\n",
              "      <td>Manual</td>\n",
              "      <td>Second</td>\n",
              "      <td>24.7 kmpl</td>\n",
              "      <td>796 CC</td>\n",
              "      <td>47.3 bhp</td>\n",
              "      <td>5.0</td>\n",
              "      <td>NaN</td>\n",
              "    </tr>\n",
              "    <tr>\n",
              "      <th>2</th>\n",
              "      <td>2</td>\n",
              "      <td>Toyota Innova Crysta Touring Sport 2.4 MT</td>\n",
              "      <td>Mumbai</td>\n",
              "      <td>2017</td>\n",
              "      <td>34000</td>\n",
              "      <td>Diesel</td>\n",
              "      <td>Manual</td>\n",
              "      <td>First</td>\n",
              "      <td>13.68 kmpl</td>\n",
              "      <td>2393 CC</td>\n",
              "      <td>147.8 bhp</td>\n",
              "      <td>7.0</td>\n",
              "      <td>25.27 Lakh</td>\n",
              "    </tr>\n",
              "    <tr>\n",
              "      <th>3</th>\n",
              "      <td>3</td>\n",
              "      <td>Toyota Etios Liva GD</td>\n",
              "      <td>Hyderabad</td>\n",
              "      <td>2012</td>\n",
              "      <td>139000</td>\n",
              "      <td>Diesel</td>\n",
              "      <td>Manual</td>\n",
              "      <td>First</td>\n",
              "      <td>23.59 kmpl</td>\n",
              "      <td>1364 CC</td>\n",
              "      <td>null bhp</td>\n",
              "      <td>5.0</td>\n",
              "      <td>NaN</td>\n",
              "    </tr>\n",
              "    <tr>\n",
              "      <th>4</th>\n",
              "      <td>4</td>\n",
              "      <td>Hyundai i20 Magna</td>\n",
              "      <td>Mumbai</td>\n",
              "      <td>2014</td>\n",
              "      <td>29000</td>\n",
              "      <td>Petrol</td>\n",
              "      <td>Manual</td>\n",
              "      <td>First</td>\n",
              "      <td>18.5 kmpl</td>\n",
              "      <td>1197 CC</td>\n",
              "      <td>82.85 bhp</td>\n",
              "      <td>5.0</td>\n",
              "      <td>NaN</td>\n",
              "    </tr>\n",
              "  </tbody>\n",
              "</table>\n",
              "</div>"
            ]
          },
          "metadata": {},
          "execution_count": 4
        }
      ],
      "source": [
        "test.head()"
      ]
    },
    {
      "cell_type": "markdown",
      "metadata": {
        "id": "WqXI3cgA9GOO"
      },
      "source": [
        "##Data Cleaning\n",
        "This will contain all of our checks for missing values as well as duplicate values."
      ]
    },
    {
      "cell_type": "code",
      "execution_count": 5,
      "metadata": {
        "colab": {
          "base_uri": "https://localhost:8080/"
        },
        "id": "BvfSutSu9PZG",
        "outputId": "77c3b70b-cb71-40cf-bb7d-8a2d63e2d136"
      },
      "outputs": [
        {
          "output_type": "execute_result",
          "data": {
            "text/plain": [
              "Unnamed: 0              0\n",
              "Name                    0\n",
              "Location                0\n",
              "Year                    0\n",
              "Kilometers_Driven       0\n",
              "Fuel_Type               0\n",
              "Transmission            0\n",
              "Owner_Type              0\n",
              "Mileage                 2\n",
              "Engine                 36\n",
              "Power                  36\n",
              "Seats                  42\n",
              "New_Price            5195\n",
              "Price                   0\n",
              "dtype: int64"
            ]
          },
          "metadata": {},
          "execution_count": 5
        }
      ],
      "source": [
        "train.isnull().sum()"
      ]
    },
    {
      "cell_type": "code",
      "execution_count": 6,
      "metadata": {
        "colab": {
          "base_uri": "https://localhost:8080/"
        },
        "id": "9vZS_lGKPlza",
        "outputId": "7107a117-b187-4962-f315-b3cfb6799b9e"
      },
      "outputs": [
        {
          "output_type": "execute_result",
          "data": {
            "text/plain": [
              "Unnamed: 0              0\n",
              "Name                    0\n",
              "Location                0\n",
              "Year                    0\n",
              "Kilometers_Driven       0\n",
              "Fuel_Type               0\n",
              "Transmission            0\n",
              "Owner_Type              0\n",
              "Mileage                 0\n",
              "Engine                 10\n",
              "Power                  10\n",
              "Seats                  11\n",
              "New_Price            1052\n",
              "dtype: int64"
            ]
          },
          "metadata": {},
          "execution_count": 6
        }
      ],
      "source": [
        "test.isnull().sum()"
      ]
    },
    {
      "cell_type": "markdown",
      "metadata": {
        "id": "Ez4O3aDX9aao"
      },
      "source": [
        "We have a few null values in our columns. We will have to decide what to do with these rows."
      ]
    },
    {
      "cell_type": "code",
      "execution_count": 7,
      "metadata": {
        "colab": {
          "base_uri": "https://localhost:8080/"
        },
        "id": "VwUwNL7W9l0m",
        "outputId": "0c69498d-6b3f-4fee-dda5-7a4c78de72ca"
      },
      "outputs": [
        {
          "output_type": "execute_result",
          "data": {
            "text/plain": [
              "0"
            ]
          },
          "metadata": {},
          "execution_count": 7
        }
      ],
      "source": [
        "train.duplicated().sum()"
      ]
    },
    {
      "cell_type": "code",
      "execution_count": 8,
      "metadata": {
        "colab": {
          "base_uri": "https://localhost:8080/"
        },
        "id": "g5g2kjVBQFuc",
        "outputId": "0ce0b3c4-c8b8-4921-d58c-3eb928804aa6"
      },
      "outputs": [
        {
          "output_type": "execute_result",
          "data": {
            "text/plain": [
              "0"
            ]
          },
          "metadata": {},
          "execution_count": 8
        }
      ],
      "source": [
        "test.duplicated().sum()"
      ]
    },
    {
      "cell_type": "markdown",
      "metadata": {
        "id": "TZ1zo4A-9n56"
      },
      "source": [
        "We have no duplicate values."
      ]
    },
    {
      "cell_type": "code",
      "execution_count": 9,
      "metadata": {
        "colab": {
          "base_uri": "https://localhost:8080/",
          "height": 300
        },
        "id": "smlIruXm9njc",
        "outputId": "440b6222-a674-424d-b64d-3b22dd0b4f1b"
      },
      "outputs": [
        {
          "output_type": "execute_result",
          "data": {
            "text/plain": [
              "        Unnamed: 0         Year  Kilometers_Driven        Seats        Price\n",
              "count  6019.000000  6019.000000       6.019000e+03  5977.000000  6019.000000\n",
              "mean   3009.000000  2013.358199       5.873838e+04     5.278735     9.479468\n",
              "std    1737.679967     3.269742       9.126884e+04     0.808840    11.187917\n",
              "min       0.000000  1998.000000       1.710000e+02     0.000000     0.440000\n",
              "25%    1504.500000  2011.000000       3.400000e+04     5.000000     3.500000\n",
              "50%    3009.000000  2014.000000       5.300000e+04     5.000000     5.640000\n",
              "75%    4513.500000  2016.000000       7.300000e+04     5.000000     9.950000\n",
              "max    6018.000000  2019.000000       6.500000e+06    10.000000   160.000000"
            ],
            "text/html": [
              "<div>\n",
              "<style scoped>\n",
              "    .dataframe tbody tr th:only-of-type {\n",
              "        vertical-align: middle;\n",
              "    }\n",
              "\n",
              "    .dataframe tbody tr th {\n",
              "        vertical-align: top;\n",
              "    }\n",
              "\n",
              "    .dataframe thead th {\n",
              "        text-align: right;\n",
              "    }\n",
              "</style>\n",
              "<table border=\"1\" class=\"dataframe\">\n",
              "  <thead>\n",
              "    <tr style=\"text-align: right;\">\n",
              "      <th></th>\n",
              "      <th>Unnamed: 0</th>\n",
              "      <th>Year</th>\n",
              "      <th>Kilometers_Driven</th>\n",
              "      <th>Seats</th>\n",
              "      <th>Price</th>\n",
              "    </tr>\n",
              "  </thead>\n",
              "  <tbody>\n",
              "    <tr>\n",
              "      <th>count</th>\n",
              "      <td>6019.000000</td>\n",
              "      <td>6019.000000</td>\n",
              "      <td>6.019000e+03</td>\n",
              "      <td>5977.000000</td>\n",
              "      <td>6019.000000</td>\n",
              "    </tr>\n",
              "    <tr>\n",
              "      <th>mean</th>\n",
              "      <td>3009.000000</td>\n",
              "      <td>2013.358199</td>\n",
              "      <td>5.873838e+04</td>\n",
              "      <td>5.278735</td>\n",
              "      <td>9.479468</td>\n",
              "    </tr>\n",
              "    <tr>\n",
              "      <th>std</th>\n",
              "      <td>1737.679967</td>\n",
              "      <td>3.269742</td>\n",
              "      <td>9.126884e+04</td>\n",
              "      <td>0.808840</td>\n",
              "      <td>11.187917</td>\n",
              "    </tr>\n",
              "    <tr>\n",
              "      <th>min</th>\n",
              "      <td>0.000000</td>\n",
              "      <td>1998.000000</td>\n",
              "      <td>1.710000e+02</td>\n",
              "      <td>0.000000</td>\n",
              "      <td>0.440000</td>\n",
              "    </tr>\n",
              "    <tr>\n",
              "      <th>25%</th>\n",
              "      <td>1504.500000</td>\n",
              "      <td>2011.000000</td>\n",
              "      <td>3.400000e+04</td>\n",
              "      <td>5.000000</td>\n",
              "      <td>3.500000</td>\n",
              "    </tr>\n",
              "    <tr>\n",
              "      <th>50%</th>\n",
              "      <td>3009.000000</td>\n",
              "      <td>2014.000000</td>\n",
              "      <td>5.300000e+04</td>\n",
              "      <td>5.000000</td>\n",
              "      <td>5.640000</td>\n",
              "    </tr>\n",
              "    <tr>\n",
              "      <th>75%</th>\n",
              "      <td>4513.500000</td>\n",
              "      <td>2016.000000</td>\n",
              "      <td>7.300000e+04</td>\n",
              "      <td>5.000000</td>\n",
              "      <td>9.950000</td>\n",
              "    </tr>\n",
              "    <tr>\n",
              "      <th>max</th>\n",
              "      <td>6018.000000</td>\n",
              "      <td>2019.000000</td>\n",
              "      <td>6.500000e+06</td>\n",
              "      <td>10.000000</td>\n",
              "      <td>160.000000</td>\n",
              "    </tr>\n",
              "  </tbody>\n",
              "</table>\n",
              "</div>"
            ]
          },
          "metadata": {},
          "execution_count": 9
        }
      ],
      "source": [
        "train.describe()"
      ]
    },
    {
      "cell_type": "code",
      "execution_count": 10,
      "metadata": {
        "colab": {
          "base_uri": "https://localhost:8080/",
          "height": 300
        },
        "id": "WKM6H5zXQIAT",
        "outputId": "5636e255-bc92-4779-a6d2-79ddca1c5e6a"
      },
      "outputs": [
        {
          "output_type": "execute_result",
          "data": {
            "text/plain": [
              "        Unnamed: 0         Year  Kilometers_Driven        Seats\n",
              "count  1234.000000  1234.000000        1234.000000  1223.000000\n",
              "mean    616.500000  2013.400324       58507.288493     5.284546\n",
              "std     356.369424     3.179700       35598.702098     0.825622\n",
              "min       0.000000  1996.000000        1000.000000     2.000000\n",
              "25%     308.250000  2011.000000       34000.000000     5.000000\n",
              "50%     616.500000  2014.000000       54572.500000     5.000000\n",
              "75%     924.750000  2016.000000       75000.000000     5.000000\n",
              "max    1233.000000  2019.000000      350000.000000    10.000000"
            ],
            "text/html": [
              "<div>\n",
              "<style scoped>\n",
              "    .dataframe tbody tr th:only-of-type {\n",
              "        vertical-align: middle;\n",
              "    }\n",
              "\n",
              "    .dataframe tbody tr th {\n",
              "        vertical-align: top;\n",
              "    }\n",
              "\n",
              "    .dataframe thead th {\n",
              "        text-align: right;\n",
              "    }\n",
              "</style>\n",
              "<table border=\"1\" class=\"dataframe\">\n",
              "  <thead>\n",
              "    <tr style=\"text-align: right;\">\n",
              "      <th></th>\n",
              "      <th>Unnamed: 0</th>\n",
              "      <th>Year</th>\n",
              "      <th>Kilometers_Driven</th>\n",
              "      <th>Seats</th>\n",
              "    </tr>\n",
              "  </thead>\n",
              "  <tbody>\n",
              "    <tr>\n",
              "      <th>count</th>\n",
              "      <td>1234.000000</td>\n",
              "      <td>1234.000000</td>\n",
              "      <td>1234.000000</td>\n",
              "      <td>1223.000000</td>\n",
              "    </tr>\n",
              "    <tr>\n",
              "      <th>mean</th>\n",
              "      <td>616.500000</td>\n",
              "      <td>2013.400324</td>\n",
              "      <td>58507.288493</td>\n",
              "      <td>5.284546</td>\n",
              "    </tr>\n",
              "    <tr>\n",
              "      <th>std</th>\n",
              "      <td>356.369424</td>\n",
              "      <td>3.179700</td>\n",
              "      <td>35598.702098</td>\n",
              "      <td>0.825622</td>\n",
              "    </tr>\n",
              "    <tr>\n",
              "      <th>min</th>\n",
              "      <td>0.000000</td>\n",
              "      <td>1996.000000</td>\n",
              "      <td>1000.000000</td>\n",
              "      <td>2.000000</td>\n",
              "    </tr>\n",
              "    <tr>\n",
              "      <th>25%</th>\n",
              "      <td>308.250000</td>\n",
              "      <td>2011.000000</td>\n",
              "      <td>34000.000000</td>\n",
              "      <td>5.000000</td>\n",
              "    </tr>\n",
              "    <tr>\n",
              "      <th>50%</th>\n",
              "      <td>616.500000</td>\n",
              "      <td>2014.000000</td>\n",
              "      <td>54572.500000</td>\n",
              "      <td>5.000000</td>\n",
              "    </tr>\n",
              "    <tr>\n",
              "      <th>75%</th>\n",
              "      <td>924.750000</td>\n",
              "      <td>2016.000000</td>\n",
              "      <td>75000.000000</td>\n",
              "      <td>5.000000</td>\n",
              "    </tr>\n",
              "    <tr>\n",
              "      <th>max</th>\n",
              "      <td>1233.000000</td>\n",
              "      <td>2019.000000</td>\n",
              "      <td>350000.000000</td>\n",
              "      <td>10.000000</td>\n",
              "    </tr>\n",
              "  </tbody>\n",
              "</table>\n",
              "</div>"
            ]
          },
          "metadata": {},
          "execution_count": 10
        }
      ],
      "source": [
        "test.describe()"
      ]
    },
    {
      "cell_type": "code",
      "execution_count": 11,
      "metadata": {
        "id": "3yB1x9pQw2sx"
      },
      "outputs": [],
      "source": [
        "train.drop('New_Price', axis=1, inplace=True)\n",
        "test.drop('New_Price', axis=1, inplace=True)"
      ]
    },
    {
      "cell_type": "markdown",
      "metadata": {
        "id": "o0-2O03Z-MNp"
      },
      "source": [
        "From this we see that we have about 83% training data and 17% test data. We also are missing a small amount of values in both our train and testing data. We should see what columns we need and drop the ones we dont."
      ]
    },
    {
      "cell_type": "markdown",
      "metadata": {
        "id": "-xzeNa_3RJrY"
      },
      "source": [
        "###Unnamed: 0\n",
        "This column seems to be the same as an id column and will not be useful for analysis, so we will drop it."
      ]
    },
    {
      "cell_type": "code",
      "execution_count": 12,
      "metadata": {
        "colab": {
          "base_uri": "https://localhost:8080/"
        },
        "id": "z60XGcRARJQL",
        "outputId": "bb762241-8c63-410d-dc47-1c34fe5111d0"
      },
      "outputs": [
        {
          "output_type": "stream",
          "name": "stdout",
          "text": [
            "(6019, 13) (1234, 12)\n",
            "(6019, 12) (1234, 11)\n"
          ]
        }
      ],
      "source": [
        "print(train.shape, test.shape)\n",
        "train.drop('Unnamed: 0', axis=1, inplace=True)\n",
        "test.drop('Unnamed: 0', axis=1, inplace=True)\n",
        "print(train.shape, test.shape)"
      ]
    },
    {
      "cell_type": "markdown",
      "metadata": {
        "id": "pXueGDTPVdd-"
      },
      "source": [
        "###Name\n",
        "This column contains the complete names of each vehicles make and model."
      ]
    },
    {
      "cell_type": "code",
      "execution_count": 13,
      "metadata": {
        "colab": {
          "base_uri": "https://localhost:8080/"
        },
        "id": "Ka14q9RURYoW",
        "outputId": "70e0efc2-b08a-4f3f-dde9-09605961d038"
      },
      "outputs": [
        {
          "output_type": "stream",
          "name": "stdout",
          "text": [
            "Name\n",
            "Mahindra XUV500 W8 2WD           49\n",
            "Maruti Swift VDI                 45\n",
            "Honda City 1.5 S MT              34\n",
            "Maruti Swift Dzire VDI           34\n",
            "Maruti Swift VDI BSIV            31\n",
            "                                 ..\n",
            "Ford Fiesta Titanium 1.5 TDCi     1\n",
            "Mahindra Scorpio S10 AT 4WD       1\n",
            "Hyundai i20 1.2 Era               1\n",
            "Toyota Camry W4 (AT)              1\n",
            "Mahindra Xylo D4 BSIV             1\n",
            "Name: count, Length: 1876, dtype: int64 \n",
            "-------------------------------------------\n",
            "Name\n",
            "Maruti Alto LXi                                         9\n",
            "Honda City 1.5 V MT                                     8\n",
            "Volkswagen Polo 1.2 MPI Highline                        8\n",
            "Maruti Swift Dzire VDI                                  8\n",
            "Audi A6 2011-2015 2.0 TDI Premium Plus                  7\n",
            "                                                       ..\n",
            "Hyundai Santro GLS I - Euro II                          1\n",
            "Honda City i DTec VX Option BL                          1\n",
            "Land Rover Discovery 4 SDV6 SE                          1\n",
            "Hyundai Verna CRDi 1.6 SX Option                        1\n",
            "Mercedes-Benz E-Class 2009-2013 E 220 CDI Avantgarde    1\n",
            "Name: count, Length: 768, dtype: int64\n"
          ]
        }
      ],
      "source": [
        "print(train['Name'].value_counts(),'\\n-------------------------------------------')\n",
        "print(test['Name'].value_counts())"
      ]
    },
    {
      "cell_type": "code",
      "execution_count": 14,
      "metadata": {
        "colab": {
          "base_uri": "https://localhost:8080/"
        },
        "id": "d5gqmuqoWBHN",
        "outputId": "36f2bbd5-091c-458b-d6e1-70b889fd1f80"
      },
      "outputs": [
        {
          "output_type": "stream",
          "name": "stdout",
          "text": [
            "Toyota Innova Crysta Touring Sport 2.4 MT\n",
            "Maruti Swift AMT ZXI\n",
            "Skoda Laura 1.8 TSI Ambition\n",
            "Honda Civic 2010-2013 1.8 S MT Inspire\n",
            "Toyota Etios Liva 1.4 VXD\n",
            "Maruti Celerio X VXI Option\n",
            "Chevrolet Sail Hatchback 1.2\n",
            "Mahindra Scorpio VLX Special Edition BS-IV\n",
            "Tata Tiago AMT 1.2 Revotron XTA\n",
            "Maruti Ciaz VXi\n",
            "Nissan Teana XL\n",
            "Tata Manza Club Class Safire90 LX\n",
            "Ford Fiesta Classic 1.6 SXI Duratec\n",
            "Mercedes-Benz B Class B180 Sports\n",
            "Nissan Micra XL CVT\n",
            "Tata Indica V2 DiCOR DLG BS-III\n",
            "Tata Indica Vista Quadrajet LX\n",
            "Audi Q3 30 TDI S Edition\n",
            "Honda BRV i-DTEC V MT\n",
            "BMW 3 Series GT 320d Sport Line\n",
            "Toyota Etios Liva VD\n",
            "Datsun GO T Petrol\n",
            "Maruti A-Star Zxi\n",
            "Mahindra KUV 100 mFALCON G80 K4 5str\n",
            "Ford Fiesta 1.4 SXI Duratorq\n",
            "Fiat Avventura FIRE Dynamic\n",
            "Honda CR-V Diesel\n",
            "Mahindra Xylo E9\n",
            "Hyundai Creta 1.6 SX Automatic\n",
            "Honda Mobilio V i VTEC\n",
            "Tata Indica Vista Aqua TDI BSIII\n",
            "Skoda Laura 1.9 TDI MT Elegance\n",
            "Honda City ZX VTEC Plus\n",
            "BMW 7 Series 730Ld DPE Signature\n",
            "Hindustan Motors Contessa 2.0 DSL\n",
            "Fiat Linea Dynamic\n",
            "Tata Sumo EX 10/7 Str BSII\n",
            "Fiat Grande Punto 1.2 Emotion\n",
            "Toyota Etios Cross 1.2L G\n",
            "Mahindra Thar 4X4\n",
            "Hyundai i20 Active SX Diesel\n",
            "Honda BR-V i-DTEC S MT\n",
            "Toyota Camry MT with Moonroof\n",
            "Mahindra Verito Vibe 1.5 dCi D6\n",
            "Volkswagen Jetta 2007-2011 1.6 Trendline\n",
            "Mahindra KUV 100 mFALCON D75 K2\n",
            "Bentley Flying Spur W12\n",
            "Tata Tigor 1.2 Revotron XZ Option\n",
            "Honda Accord 2001-2003 2.3 VTI L MT\n",
            "Land Rover Freelander 2 S Business Edition\n",
            "Ford Endeavour 3.0L AT 4x2\n",
            "Hyundai Santro Xing GLS CNG\n",
            "Toyota Land Cruiser Prado VX L\n",
            "Hyundai Tucson 2.0 e-VGT 4WD AT GLS\n",
            "Toyota Innova 2.5 GX 8 STR\n",
            "Maruti Wagon R VXI AMT Opt\n",
            "Skoda Laura L and K MT\n",
            "Land Rover Range Rover HSE\n",
            "Volkswagen Polo ALLSTAR 1.2 MPI\n",
            "Land Rover Discovery 4 SDV6 SE\n",
            "Honda City i DTec VX Option BL\n",
            "Hyundai Santro LS zipDrive Euro I\n",
            "Mitsubishi Pajero Sport 4X2 AT\n",
            "Hyundai Creta 1.6 SX Diesel\n",
            "Isuzu MU 7 4x2 HIPACK\n",
            "Hyundai Elantra GT\n",
            "Mercedes-Benz B Class B180 Sport\n",
            "Mahindra Bolero SLX\n",
            "Hyundai Xcent 1.2 CRDi SX\n",
            "BMW 5 Series 530i Sport Line\n",
            "Honda Jazz VX CVT\n",
            "Tata Indica Vista Aqua 1.2 Safire\n",
            "Toyota Etios Liva Diesel TRD Sportivo\n",
            "Skoda Rapid Ultima 1.6 TDI Ambition Plus\n",
            "Maruti SX4 ZXI AT\n",
            "Hyundai i20 new Sportz AT 1.4\n",
            "Mahindra Scorpio SLX 2.6 Turbo 8 Str\n",
            "BMW X3 2.5si\n",
            "Hyundai EON 1.0 Kappa Magna Plus\n",
            "Chevrolet Enjoy 1.3 TCDi LTZ 7\n",
            "Hyundai Verna 1.4 CX\n",
            "Mahindra KUV 100 D75 K8 5Str\n",
            "Hyundai EON 1.0 Era Plus\n",
            "Toyota Innova 2.0 V\n",
            "Mahindra Xylo H9\n",
            "Mahindra TUV 300 P4\n",
            "Maruti Ritz VDi ABS\n",
            "Volvo S60 D5 Kinetic\n",
            "Chevrolet Enjoy TCDi LS 7 Seater\n",
            "Mahindra Scorpio S10 8 Seater\n",
            "Renault Pulse RxZ\n",
            "Honda WRV i-DTEC VX\n",
            "Hyundai Accent GLX\n",
            "Mahindra KUV 100 G80 K4 Plus 5Str\n",
            "Tata Indica Vista Terra 1.2 Safire BS IV\n",
            "Volkswagen Vento 1.5 TDI Highline Plus\n",
            "Volkswagen CrossPolo 1.2 TDI\n",
            "Ford Ikon 1.4 ZXi\n",
            "Hyundai Verna Transform SX VGT CRDi BS III\n",
            "Volkswagen Vento 1.5 TDI Highline Plus AT\n",
            "Maruti 800 DX\n",
            "Maruti Ertiga VXI Petrol\n",
            "Fiat Avventura Urban Cross 1.3 Multijet Emotion\n",
            "Skoda Octavia 2.0 TDI MT Style\n",
            "Renault Duster 85PS Diesel RxZ\n",
            "Jaguar XF 2.0 Petrol Portfolio\n",
            "Honda Civic 2010-2013 1.8 V AT\n",
            "Hyundai Elantra SX AT\n",
            "Nissan 370Z AT\n",
            "Ford Classic 1.4 Duratorq CLXI\n",
            "Renault Koleos 4X2 MT\n",
            "Honda Amaze E i-DTEC\n",
            "Maruti Ciaz VDi Option SHVS\n",
            "Tata Indica Vista Terra Quadrajet 1.3L BS IV\n",
            "Mercedes-Benz GLA Class 220 d 4MATIC\n",
            "Mahindra Bolero Power Plus ZLX\n",
            "Fiat Linea Classic 1.3 Multijet\n",
            "Mahindra Scorpio VLS 2.2 mHawk\n",
            "Ford Freestyle Titanium Plus Diesel\n",
            "Maruti Swift VVT ZXI\n",
            "Fiat Punto EVO 1.3 Emotion\n",
            "Fiat Abarth 595 Competizione\n",
            "Hyundai Accent Executive LPG\n",
            "Honda BR-V i-VTEC VX MT\n",
            "Volkswagen Vento 1.6 Trendline\n",
            "Maruti Versa DX2\n",
            "Hyundai Sonata Embera 2.4L MT\n",
            "Honda Amaze VX CVT i-VTEC\n",
            "Honda Jazz 2020 Petrol\n",
            "Hyundai i20 1.4 Asta AT (O) with Sunroof\n",
            "Renault Lodgy 110PS RxL\n",
            "Mercedes-Benz E-Class 250 D W 124\n",
            "Toyota Innova 2.5 LE 2014 Diesel 8 Seater\n",
            "Mercedes-Benz E-Class E240 V6 AT\n",
            "Nissan Terrano XE 85 PS\n",
            "Mahindra TUV 300 2015-2019 T8 AMT\n",
            "Hyundai i20 2015-2017 1.4 CRDi Sportz\n",
            "Hyundai Creta 1.6 VTVT Base\n",
            "Maruti Ignis 1.2 AMT Delta\n",
            "Ford Fiesta Classic 1.6 Duratec LXI\n",
            "Toyota Corolla Altis GL\n",
            "OpelCorsa 1.4Gsi\n",
            "Volkswagen Vento 1.2 TSI Comfortline AT\n",
            "Hyundai Santro Xing XG AT eRLX Euro III\n",
            "Mahindra KUV 100 mFALCON D75 K6 5str AW\n",
            "Mahindra Scorpio VLX 2WD BSIII\n",
            "Chevrolet Enjoy Petrol LTZ 7 Seater\n",
            "Hyundai i20 2015-2017 Magna Optional 1.4 CRDi\n",
            "Mercedes-Benz CLA 45 AMG\n",
            "Audi Q5 2008-2012 3.0 TDI Quattro\n",
            "Chevrolet Spark 1.0 PS\n",
            "Chevrolet Enjoy 1.4 LTZ 8\n",
            "Maruti Vitara Brezza ZDi AMT\n",
            "Mercedes-Benz A Class Edition 1\n",
            "BMW 7 Series 740i Sedan\n",
            "Mercedes-Benz S Class 2005 2013 320 L\n",
            "Maruti Alto XCITE\n",
            "Land Rover Discovery 4 TDV6 Auto Diesel\n",
            "Hyundai Verna Transform VTVT with Audio\n",
            "Maruti Vitara Brezza ZDi Plus AMT\n",
            "Skoda Superb Petrol Ambition\n",
            "Tata Tiago 1.05 Revotorq XT Option\n",
            "Ford EcoSport 1.5 Petrol Ambiente\n",
            "Jeep Compass 1.4 Sport\n",
            "Hyundai Elite i20 Magna Plus\n"
          ]
        }
      ],
      "source": [
        "train_n = list(train['Name'].unique())\n",
        "test_n = list(test['Name'].unique())\n",
        "for i in test_n:\n",
        "    if i not in train_n:\n",
        "        print(i)"
      ]
    },
    {
      "cell_type": "markdown",
      "metadata": {
        "id": "x9q7KU6YWJY7"
      },
      "source": [
        "We have a lot of names that are contained in our training dataset, but not our test dataset. As such we should drop this column as well."
      ]
    },
    {
      "cell_type": "code",
      "execution_count": 15,
      "metadata": {
        "id": "PR2pVEEHWJKT"
      },
      "outputs": [],
      "source": [
        "train.drop('Name', axis=1, inplace=True)\n",
        "test.drop('Name', axis=1, inplace=True)"
      ]
    },
    {
      "cell_type": "markdown",
      "metadata": {
        "id": "v2GQVGr4W8YU"
      },
      "source": [
        "###Location\n",
        "This column contains all of the locations that each vehicle was sold in."
      ]
    },
    {
      "cell_type": "code",
      "execution_count": 16,
      "metadata": {
        "colab": {
          "base_uri": "https://localhost:8080/"
        },
        "id": "V7euCUmoXDIa",
        "outputId": "bac0f984-9d92-427d-a1f6-d0c0feea5d18"
      },
      "outputs": [
        {
          "output_type": "execute_result",
          "data": {
            "text/plain": [
              "Location\n",
              "Mumbai        790\n",
              "Hyderabad     742\n",
              "Kochi         651\n",
              "Coimbatore    636\n",
              "Pune          622\n",
              "Delhi         554\n",
              "Kolkata       535\n",
              "Chennai       494\n",
              "Jaipur        413\n",
              "Bangalore     358\n",
              "Ahmedabad     224\n",
              "Name: count, dtype: int64"
            ]
          },
          "metadata": {},
          "execution_count": 16
        }
      ],
      "source": [
        "train['Location'].value_counts()"
      ]
    },
    {
      "cell_type": "code",
      "execution_count": 17,
      "metadata": {
        "colab": {
          "base_uri": "https://localhost:8080/"
        },
        "id": "Uq2U56I-XKY-",
        "outputId": "934588ef-2cb4-4b86-9319-0087e523e914"
      },
      "outputs": [
        {
          "output_type": "execute_result",
          "data": {
            "text/plain": [
              "Location\n",
              "Mumbai        159\n",
              "Pune          143\n",
              "Coimbatore    136\n",
              "Hyderabad     134\n",
              "Kochi         121\n",
              "Kolkata       119\n",
              "Delhi         106\n",
              "Chennai        97\n",
              "Jaipur         86\n",
              "Bangalore      82\n",
              "Ahmedabad      51\n",
              "Name: count, dtype: int64"
            ]
          },
          "metadata": {},
          "execution_count": 17
        }
      ],
      "source": [
        "test['Location'].value_counts()"
      ]
    },
    {
      "cell_type": "code",
      "source": [
        "plt.figure(figsize=(14,5))\n",
        "plt.bar(train.Location.unique(), train['Location'].value_counts())\n",
        "plt.title('Location Distribution')\n",
        "plt.xlabel('Location')\n",
        "plt.ylabel('Count')\n",
        "plt.show()"
      ],
      "metadata": {
        "colab": {
          "base_uri": "https://localhost:8080/",
          "height": 485
        },
        "id": "YftmctbPZvcf",
        "outputId": "8a63fe30-5e9f-4653-98a6-e767a858089a"
      },
      "execution_count": 96,
      "outputs": [
        {
          "output_type": "display_data",
          "data": {
            "text/plain": [
              "<Figure size 1400x500 with 1 Axes>"
            ],
            "image/png": "[encoded data removed]"
          },
          "metadata": {}
        }
      ]
    },
    {
      "cell_type": "markdown",
      "metadata": {
        "id": "x58fz9YqXPMg"
      },
      "source": [
        "All loctaions are contained in both datasets, also from earlier, we know that this column has no missing values. As such we will be keeping the column."
      ]
    },
    {
      "cell_type": "markdown",
      "metadata": {
        "id": "S3ISoblVXaZy"
      },
      "source": [
        "###Kilometers_Driven\n",
        "This column contains the milage of the vehicle at the time it was sold."
      ]
    },
    {
      "cell_type": "code",
      "execution_count": 18,
      "metadata": {
        "colab": {
          "base_uri": "https://localhost:8080/",
          "height": 443
        },
        "id": "KZ51VuHuYI3s",
        "outputId": "0c051c9c-acdd-4109-e064-eef598630958"
      },
      "outputs": [
        {
          "output_type": "execute_result",
          "data": {
            "text/plain": [
              "<Axes: ylabel='Kilometers_Driven'>"
            ]
          },
          "metadata": {},
          "execution_count": 18
        },
        {
          "output_type": "display_data",
          "data": {
            "text/plain": [
              "<Figure size 640x480 with 1 Axes>"
            ],
            "image/png": "[encoded data removed]"
          },
          "metadata": {}
        }
      ],
      "source": [
        "sns.boxplot(train['Kilometers_Driven'])"
      ]
    },
    {
      "cell_type": "markdown",
      "metadata": {
        "id": "ZRNAbZhDYRrN"
      },
      "source": [
        "We see a lot of values below the 200,000km mark which is to be expected. We also see outlier values way above 600,000km. We will be dropping this value."
      ]
    },
    {
      "cell_type": "code",
      "execution_count": 19,
      "metadata": {
        "id": "Yioo_WQwYk8g"
      },
      "outputs": [],
      "source": [
        "train.drop(train[train['Kilometers_Driven'] > 400000].index, axis=0, inplace=True)"
      ]
    },
    {
      "cell_type": "code",
      "source": [
        "sns.boxplot(train['Kilometers_Driven'])"
      ],
      "metadata": {
        "colab": {
          "base_uri": "https://localhost:8080/",
          "height": 428
        },
        "id": "0V4BK6kFbGxu",
        "outputId": "7b6cb4d1-c5eb-4adc-eb7d-619b37746d5f"
      },
      "execution_count": 97,
      "outputs": [
        {
          "output_type": "execute_result",
          "data": {
            "text/plain": [
              "<Axes: ylabel='Kilometers_Driven'>"
            ]
          },
          "metadata": {},
          "execution_count": 97
        },
        {
          "output_type": "display_data",
          "data": {
            "text/plain": [
              "<Figure size 640x480 with 1 Axes>"
            ],
            "image/png": "[encoded data removed]"
          },
          "metadata": {}
        }
      ]
    },
    {
      "cell_type": "markdown",
      "metadata": {
        "id": "MeDjxubzZLvA"
      },
      "source": [
        "###Fuel Type\n",
        "This column contains the fuel type that the vehicle runs on."
      ]
    },
    {
      "cell_type": "code",
      "execution_count": 20,
      "metadata": {
        "colab": {
          "base_uri": "https://localhost:8080/"
        },
        "id": "AteriV_5r1kc",
        "outputId": "c36737ab-9871-449f-dda9-a2ffd87ff829"
      },
      "outputs": [
        {
          "output_type": "execute_result",
          "data": {
            "text/plain": [
              "Fuel_Type\n",
              "Diesel      3201\n",
              "Petrol      2743\n",
              "CNG           56\n",
              "LPG           10\n",
              "Electric       2\n",
              "Name: count, dtype: int64"
            ]
          },
          "metadata": {},
          "execution_count": 20
        }
      ],
      "source": [
        "train['Fuel_Type'].value_counts()"
      ]
    },
    {
      "cell_type": "code",
      "execution_count": 21,
      "metadata": {
        "colab": {
          "base_uri": "https://localhost:8080/"
        },
        "id": "0jqx1_YAr3sQ",
        "outputId": "4d41933d-c646-40e7-86ea-adfd83a7ba9c"
      },
      "outputs": [
        {
          "output_type": "execute_result",
          "data": {
            "text/plain": [
              "Fuel_Type\n",
              "Diesel    647\n",
              "Petrol    579\n",
              "CNG         6\n",
              "LPG         2\n",
              "Name: count, dtype: int64"
            ]
          },
          "metadata": {},
          "execution_count": 21
        }
      ],
      "source": [
        "test['Fuel_Type'].value_counts()"
      ]
    },
    {
      "cell_type": "markdown",
      "metadata": {
        "id": "genlmRqnsJr2"
      },
      "source": [
        "Since our train data has evs and our test data does not, we will be dropping the rows with evs in them."
      ]
    },
    {
      "cell_type": "code",
      "execution_count": 22,
      "metadata": {
        "id": "kEe2EpPZr7rI"
      },
      "outputs": [],
      "source": [
        "train.drop(train[train['Fuel_Type'] == 'Electric'].index, axis=0, inplace=True)"
      ]
    },
    {
      "cell_type": "code",
      "source": [
        "plt.figure(figsize=(8,5))\n",
        "plt.bar(train.Fuel_Type.unique(), train['Fuel_Type'].value_counts())\n",
        "plt.title('Fuel_Type Distribution')\n",
        "plt.xlabel('Fuel_Type')\n",
        "plt.ylabel('Count')\n",
        "plt.show()"
      ],
      "metadata": {
        "colab": {
          "base_uri": "https://localhost:8080/",
          "height": 485
        },
        "id": "0hX4WwAKbL0G",
        "outputId": "70b32899-d5bd-47e0-bdae-f023f560ec8a"
      },
      "execution_count": 100,
      "outputs": [
        {
          "output_type": "display_data",
          "data": {
            "text/plain": [
              "<Figure size 800x500 with 1 Axes>"
            ],
            "image/png": "[encoded data removed]"
          },
          "metadata": {}
        }
      ]
    },
    {
      "cell_type": "markdown",
      "metadata": {
        "id": "nZgWxU6zsSWT"
      },
      "source": [
        "###Fuel Type\n",
        "This column contains the transmission type that the vehicle has."
      ]
    },
    {
      "cell_type": "code",
      "execution_count": 23,
      "metadata": {
        "colab": {
          "base_uri": "https://localhost:8080/"
        },
        "id": "fBWuYU4BsQ7r",
        "outputId": "8944bd62-fa19-431c-8a1e-5d40ccce1b63"
      },
      "outputs": [
        {
          "output_type": "execute_result",
          "data": {
            "text/plain": [
              "Transmission\n",
              "Manual       4295\n",
              "Automatic    1715\n",
              "Name: count, dtype: int64"
            ]
          },
          "metadata": {},
          "execution_count": 23
        }
      ],
      "source": [
        "train['Transmission'].value_counts()"
      ]
    },
    {
      "cell_type": "code",
      "execution_count": 24,
      "metadata": {
        "colab": {
          "base_uri": "https://localhost:8080/"
        },
        "id": "Oy8Tdf-7sXJa",
        "outputId": "b6c52bac-704a-4d31-df4d-9ff34f135543"
      },
      "outputs": [
        {
          "output_type": "execute_result",
          "data": {
            "text/plain": [
              "Transmission\n",
              "Manual       905\n",
              "Automatic    329\n",
              "Name: count, dtype: int64"
            ]
          },
          "metadata": {},
          "execution_count": 24
        }
      ],
      "source": [
        "test['Transmission'].value_counts()"
      ]
    },
    {
      "cell_type": "code",
      "source": [
        "plt.figure(figsize=(2,5))\n",
        "plt.bar(train.Transmission.unique(), train['Transmission'].value_counts())\n",
        "plt.title('Transmission Distribution')\n",
        "plt.xlabel('Transmission')\n",
        "plt.ylabel('Count')\n",
        "plt.show()"
      ],
      "metadata": {
        "colab": {
          "base_uri": "https://localhost:8080/",
          "height": 485
        },
        "id": "O3Z7hX9cbT5T",
        "outputId": "afb4c9b2-df09-4db1-b4b4-f361125d9596"
      },
      "execution_count": 104,
      "outputs": [
        {
          "output_type": "display_data",
          "data": {
            "text/plain": [
              "<Figure size 200x500 with 1 Axes>"
            ],
            "image/png": "[encoded data removed]"
          },
          "metadata": {}
        }
      ]
    },
    {
      "cell_type": "markdown",
      "metadata": {
        "id": "1ABxbCgMsaxZ"
      },
      "source": [
        "These values are fine and will likely impact the price of the vehicle so we will leave them as is."
      ]
    },
    {
      "cell_type": "markdown",
      "metadata": {
        "id": "YurnB_b0sh19"
      },
      "source": [
        "###Owner Type\n",
        "This column contains the number of owners that the vehicle had before being sold."
      ]
    },
    {
      "cell_type": "code",
      "execution_count": 25,
      "metadata": {
        "colab": {
          "base_uri": "https://localhost:8080/"
        },
        "id": "G7udrMzIsaBR",
        "outputId": "97fa6eb3-fc04-4be8-f43e-9480381e11e1"
      },
      "outputs": [
        {
          "output_type": "execute_result",
          "data": {
            "text/plain": [
              "Owner_Type\n",
              "First             4920\n",
              "Second             968\n",
              "Third              113\n",
              "Fourth & Above       9\n",
              "Name: count, dtype: int64"
            ]
          },
          "metadata": {},
          "execution_count": 25
        }
      ],
      "source": [
        "train['Owner_Type'].value_counts()"
      ]
    },
    {
      "cell_type": "code",
      "execution_count": 26,
      "metadata": {
        "colab": {
          "base_uri": "https://localhost:8080/"
        },
        "id": "F4Zhid5osnRB",
        "outputId": "ff8deeca-1888-4b90-cfd9-1f102d19d5a7"
      },
      "outputs": [
        {
          "output_type": "execute_result",
          "data": {
            "text/plain": [
              "Owner_Type\n",
              "First             1023\n",
              "Second             184\n",
              "Third               24\n",
              "Fourth & Above       3\n",
              "Name: count, dtype: int64"
            ]
          },
          "metadata": {},
          "execution_count": 26
        }
      ],
      "source": [
        "test['Owner_Type'].value_counts()"
      ]
    },
    {
      "cell_type": "code",
      "source": [
        "plt.figure(figsize=(8,5))\n",
        "plt.bar(['First', 'Second', 'Third', 'Fourth & Above'], train['Owner_Type'].value_counts())\n",
        "plt.title('Owner Distribution')\n",
        "plt.xlabel('Owner')\n",
        "plt.ylabel('Count')\n",
        "plt.show()"
      ],
      "metadata": {
        "colab": {
          "base_uri": "https://localhost:8080/",
          "height": 485
        },
        "id": "tKCiCFOhbboq",
        "outputId": "003bac52-fa35-448d-fd76-5a36d82dfbcb"
      },
      "execution_count": 108,
      "outputs": [
        {
          "output_type": "display_data",
          "data": {
            "text/plain": [
              "<Figure size 800x500 with 1 Axes>"
            ],
            "image/png": "[encoded data removed]"
          },
          "metadata": {}
        }
      ]
    },
    {
      "cell_type": "markdown",
      "metadata": {
        "id": "O0dkbor9sorW"
      },
      "source": [
        "These values are fine and will likely impact the price of the vehicle so we will leave them as is."
      ]
    },
    {
      "cell_type": "markdown",
      "metadata": {
        "id": "qGKMQE2jsqxn"
      },
      "source": [
        "###Mileage\n",
        "This column contains the fuel mileage the vehicle has."
      ]
    },
    {
      "cell_type": "code",
      "execution_count": 27,
      "metadata": {
        "colab": {
          "base_uri": "https://localhost:8080/"
        },
        "id": "B8woVdwUszNN",
        "outputId": "5d98c17e-453b-45d1-d4f7-05408e634d4f"
      },
      "outputs": [
        {
          "output_type": "execute_result",
          "data": {
            "text/plain": [
              "Mileage\n",
              "17.0 kmpl     172\n",
              "18.9 kmpl     172\n",
              "18.6 kmpl     119\n",
              "20.36 kmpl     87\n",
              "21.1 kmpl      86\n",
              "             ... \n",
              "27.28 kmpl      1\n",
              "14.57 kmpl      1\n",
              "22.8 km/kg      1\n",
              "8.0 kmpl        1\n",
              "17.24 kmpl      1\n",
              "Name: count, Length: 442, dtype: int64"
            ]
          },
          "metadata": {},
          "execution_count": 27
        }
      ],
      "source": [
        "train['Mileage'].value_counts(dropna=False)"
      ]
    },
    {
      "cell_type": "code",
      "execution_count": 28,
      "metadata": {
        "id": "9porL2cSs3FM"
      },
      "outputs": [],
      "source": [
        "train['Mileage'] = train['Mileage'].fillna('17.0 kmpl')"
      ]
    },
    {
      "cell_type": "markdown",
      "metadata": {
        "id": "1p7OOX86uMKY"
      },
      "source": [
        "###Engine\n",
        "This column contains the engine displacement in CC."
      ]
    },
    {
      "cell_type": "code",
      "execution_count": 29,
      "metadata": {
        "colab": {
          "base_uri": "https://localhost:8080/"
        },
        "id": "jqZcSDyfuMhW",
        "outputId": "67c9a236-241d-485b-cc75-c0c9198ae961"
      },
      "outputs": [
        {
          "output_type": "execute_result",
          "data": {
            "text/plain": [
              "Engine\n",
              "1197 CC    604\n",
              "1248 CC    512\n",
              "1498 CC    304\n",
              "998 CC     259\n",
              "2179 CC    240\n",
              "          ... \n",
              "1489 CC      1\n",
              "1422 CC      1\n",
              "1978 CC      1\n",
              "2694 CC      1\n",
              "1797 CC      1\n",
              "Name: count, Length: 145, dtype: int64"
            ]
          },
          "metadata": {},
          "execution_count": 29
        }
      ],
      "source": [
        "train['Engine'].value_counts()"
      ]
    },
    {
      "cell_type": "code",
      "execution_count": 30,
      "metadata": {
        "colab": {
          "base_uri": "https://localhost:8080/"
        },
        "id": "c1J6r_7buOH9",
        "outputId": "a7d4bca1-e33d-4aaa-9161-1c61e2138cad"
      },
      "outputs": [
        {
          "output_type": "execute_result",
          "data": {
            "text/plain": [
              "Engine\n",
              "1197 CC    126\n",
              "1248 CC     98\n",
              "1498 CC     66\n",
              "1198 CC     54\n",
              "998 CC      50\n",
              "          ... \n",
              "1948 CC      1\n",
              "1299 CC      1\n",
              "5998 CC      1\n",
              "2362 CC      1\n",
              "1047 CC      1\n",
              "Name: count, Length: 104, dtype: int64"
            ]
          },
          "metadata": {},
          "execution_count": 30
        }
      ],
      "source": [
        "test['Engine'].value_counts()"
      ]
    },
    {
      "cell_type": "code",
      "execution_count": 31,
      "metadata": {
        "id": "_Bw8VO33uYVn"
      },
      "outputs": [],
      "source": [
        "train['Engine'] = train['Engine'].fillna('1197 CC')\n",
        "test['Engine'] = test['Engine'].fillna('1197 CC')"
      ]
    },
    {
      "cell_type": "markdown",
      "metadata": {
        "id": "Afw8XbWKuXeU"
      },
      "source": [
        "Lets split the engine column into the numeric value of the displacement and drop the added cc measurement."
      ]
    },
    {
      "cell_type": "code",
      "execution_count": 32,
      "metadata": {
        "id": "caGxt-byui7J"
      },
      "outputs": [],
      "source": [
        "e_val = pd.DataFrame(columns=['Engine_value'])\n",
        "e_measure = pd.DataFrame(columns=['Engine_measure'])\n",
        "train = pd.concat([train, e_val, e_measure], axis=1)\n",
        "test = pd.concat([test, e_val, e_measure], axis=1)\n",
        "\n",
        "for i in train.index:\n",
        "    value = train['Engine'][i].split()[0]\n",
        "    measure = train['Engine'][i].split()[1]\n",
        "    train['Engine_value'][i] = int(value)\n",
        "    train['Engine_measure'][i] = measure\n",
        "\n",
        "for i in test.index:\n",
        "    value = test['Engine'][i].split()[0]\n",
        "    measure = test['Engine'][i].split()[1]\n",
        "    test['Engine_value'][i] = int(value)\n",
        "    test['Engine_measure'][i] = measure\n",
        "\n",
        "train.drop('Engine', axis=1, inplace=True)\n",
        "test.drop('Engine', axis=1, inplace=True)"
      ]
    },
    {
      "cell_type": "code",
      "execution_count": 33,
      "metadata": {
        "id": "i_NVEHVVuyVD"
      },
      "outputs": [],
      "source": [
        "train.drop('Engine_measure', axis=1, inplace=True)\n",
        "test.drop('Engine_measure', axis=1, inplace=True)"
      ]
    },
    {
      "cell_type": "code",
      "execution_count": 34,
      "metadata": {
        "id": "5HBwvmQ55A8S"
      },
      "outputs": [],
      "source": [
        "train['Engine_value'] = train['Engine_value'].astype(float)\n",
        "test['Engine_value'] = test['Engine_value'].astype(float)"
      ]
    },
    {
      "cell_type": "code",
      "execution_count": 35,
      "metadata": {
        "colab": {
          "base_uri": "https://localhost:8080/",
          "height": 428
        },
        "id": "GW28G03UGGzq",
        "outputId": "3b454c0f-bddc-44e4-d6b1-1b3c29abbe5c"
      },
      "outputs": [
        {
          "output_type": "execute_result",
          "data": {
            "text/plain": [
              "<Axes: ylabel='Engine_value'>"
            ]
          },
          "metadata": {},
          "execution_count": 35
        },
        {
          "output_type": "display_data",
          "data": {
            "text/plain": [
              "<Figure size 640x480 with 1 Axes>"
            ],
            "image/png": "[encoded data removed]"
          },
          "metadata": {}
        }
      ],
      "source": [
        "sns.boxplot(train['Engine_value'])"
      ]
    },
    {
      "cell_type": "markdown",
      "metadata": {
        "id": "Up-QVHVkuik7"
      },
      "source": [
        "###Engine\n",
        "This column contains the engine power in bhp."
      ]
    },
    {
      "cell_type": "code",
      "execution_count": 36,
      "metadata": {
        "colab": {
          "base_uri": "https://localhost:8080/"
        },
        "id": "Jes6bGBau3rJ",
        "outputId": "59dd4c63-7101-468f-cc13-27febe8cafae"
      },
      "outputs": [
        {
          "output_type": "execute_result",
          "data": {
            "text/plain": [
              "Power\n",
              "74 bhp        235\n",
              "98.6 bhp      131\n",
              "73.9 bhp      125\n",
              "140 bhp       123\n",
              "78.9 bhp      110\n",
              "             ... \n",
              "201 bhp         1\n",
              "199.3 bhp       1\n",
              "95 bhp          1\n",
              "152.88 bhp      1\n",
              "181.04 bhp      1\n",
              "Name: count, Length: 371, dtype: int64"
            ]
          },
          "metadata": {},
          "execution_count": 36
        }
      ],
      "source": [
        "train['Power'].value_counts()"
      ]
    },
    {
      "cell_type": "code",
      "execution_count": 37,
      "metadata": {
        "colab": {
          "base_uri": "https://localhost:8080/"
        },
        "id": "LfBpzlAKu45H",
        "outputId": "503afcea-b12b-412f-ea47-b6d4d7ca3a7e"
      },
      "outputs": [
        {
          "output_type": "execute_result",
          "data": {
            "text/plain": [
              "Power\n",
              "74 bhp        45\n",
              "98.6 bhp      35\n",
              "73.9 bhp      27\n",
              "82 bhp        23\n",
              "null bhp      22\n",
              "              ..\n",
              "97.7 bhp       1\n",
              "161 bhp        1\n",
              "167.7 bhp      1\n",
              "245.41 bhp     1\n",
              "92.7 bhp       1\n",
              "Name: count, Length: 249, dtype: int64"
            ]
          },
          "metadata": {},
          "execution_count": 37
        }
      ],
      "source": [
        "test['Power'].value_counts()"
      ]
    },
    {
      "cell_type": "code",
      "execution_count": 38,
      "metadata": {
        "id": "VV_hEXVZu6sQ"
      },
      "outputs": [],
      "source": [
        "train['Power'] = train['Power'].replace('null bhp', '74 bhp')\n",
        "test['Power'] = test['Power'].replace('null bhp', '74 bhp')\n",
        "train['Power'] = train['Power'].fillna('74 bhp')\n",
        "test['Power'] = test['Power'].fillna('74 bhp')"
      ]
    },
    {
      "cell_type": "markdown",
      "metadata": {
        "id": "4AV0ViPlvBqX"
      },
      "source": [
        "Lets split the power column into the numeric value of the power and drop the added bhp measurement."
      ]
    },
    {
      "cell_type": "code",
      "execution_count": 39,
      "metadata": {
        "id": "riK9sfuuu_NU"
      },
      "outputs": [],
      "source": [
        "p_val = pd.DataFrame(columns=['Power_value'])\n",
        "p_measure = pd.DataFrame(columns=['Power_measure'])\n",
        "train = pd.concat([train, p_val, p_measure], axis=1)\n",
        "test = pd.concat([test, p_val, p_measure], axis=1)\n",
        "\n",
        "for i in train.index:\n",
        "    value = train['Power'][i].split()[0]\n",
        "    measure = train['Power'][i].split()[1]\n",
        "    train['Power_value'][i] = float(value)\n",
        "    train['Power_measure'][i] = measure\n",
        "\n",
        "for i in test.index:\n",
        "    value = test['Power'][i].split()[0]\n",
        "    measure = test['Power'][i].split()[1]\n",
        "    test['Power_value'][i] = float(value)\n",
        "    test['Power_measure'][i] = measure\n",
        "\n",
        "train.drop('Power', axis=1, inplace=True)\n",
        "test.drop('Power', axis=1, inplace=True)"
      ]
    },
    {
      "cell_type": "code",
      "execution_count": 40,
      "metadata": {
        "id": "Q8f4KilLvKHs"
      },
      "outputs": [],
      "source": [
        "train.drop('Power_measure', axis=1, inplace=True)\n",
        "test.drop('Power_measure', axis=1, inplace=True)"
      ]
    },
    {
      "cell_type": "code",
      "execution_count": 41,
      "metadata": {
        "id": "GOOgPCy04605"
      },
      "outputs": [],
      "source": [
        "train['Power_value'] = train['Power_value'].astype(float)\n",
        "test['Power_value'] = test['Power_value'].astype(float)"
      ]
    },
    {
      "cell_type": "code",
      "execution_count": 42,
      "metadata": {
        "colab": {
          "base_uri": "https://localhost:8080/",
          "height": 428
        },
        "id": "pyUL90KSGPbd",
        "outputId": "2cf63dd5-e4a5-4b20-e23f-9daf55b860bd"
      },
      "outputs": [
        {
          "output_type": "execute_result",
          "data": {
            "text/plain": [
              "<Axes: ylabel='Power_value'>"
            ]
          },
          "metadata": {},
          "execution_count": 42
        },
        {
          "output_type": "display_data",
          "data": {
            "text/plain": [
              "<Figure size 640x480 with 1 Axes>"
            ],
            "image/png": "[encoded data removed]"
          },
          "metadata": {}
        }
      ],
      "source": [
        "sns.boxplot(train['Power_value'])"
      ]
    },
    {
      "cell_type": "markdown",
      "metadata": {
        "id": "XpcPYa69vSS3"
      },
      "source": [
        "###Engine\n",
        "This column contains the number of seats the vehicle has."
      ]
    },
    {
      "cell_type": "code",
      "execution_count": 43,
      "metadata": {
        "colab": {
          "base_uri": "https://localhost:8080/"
        },
        "id": "F5W9wRYnvRpT",
        "outputId": "883da4d6-cdf5-48e3-db42-66e2b613c81e"
      },
      "outputs": [
        {
          "output_type": "execute_result",
          "data": {
            "text/plain": [
              "Seats\n",
              "5.0     5005\n",
              "7.0      674\n",
              "8.0      134\n",
              "4.0       99\n",
              "6.0       31\n",
              "2.0       16\n",
              "10.0       5\n",
              "9.0        3\n",
              "0.0        1\n",
              "Name: count, dtype: int64"
            ]
          },
          "metadata": {},
          "execution_count": 43
        }
      ],
      "source": [
        "train['Seats'].value_counts()"
      ]
    },
    {
      "cell_type": "code",
      "execution_count": 44,
      "metadata": {
        "colab": {
          "base_uri": "https://localhost:8080/"
        },
        "id": "TFxN3bTbvYKg",
        "outputId": "7eba95bf-b83e-4a16-ce8f-466f3ab91662"
      },
      "outputs": [
        {
          "output_type": "execute_result",
          "data": {
            "text/plain": [
              "Seats\n",
              "5.0     1033\n",
              "7.0      122\n",
              "8.0       36\n",
              "4.0       20\n",
              "6.0        7\n",
              "10.0       3\n",
              "2.0        2\n",
              "Name: count, dtype: int64"
            ]
          },
          "metadata": {},
          "execution_count": 44
        }
      ],
      "source": [
        "test['Seats'].value_counts()"
      ]
    },
    {
      "cell_type": "code",
      "execution_count": 45,
      "metadata": {
        "id": "hLK38yD1vY3n"
      },
      "outputs": [],
      "source": [
        "train['Seats'] = train['Seats'].fillna(5.0)\n",
        "test['Seats'] = test['Seats'].fillna(5.0)"
      ]
    },
    {
      "cell_type": "code",
      "execution_count": 46,
      "metadata": {
        "colab": {
          "base_uri": "https://localhost:8080/",
          "height": 428
        },
        "id": "KhS3dzJdGUZk",
        "outputId": "36a5ba5d-ff5a-4ea5-8315-898842138b77"
      },
      "outputs": [
        {
          "output_type": "execute_result",
          "data": {
            "text/plain": [
              "<Axes: ylabel='Seats'>"
            ]
          },
          "metadata": {},
          "execution_count": 46
        },
        {
          "output_type": "display_data",
          "data": {
            "text/plain": [
              "<Figure size 640x480 with 1 Axes>"
            ],
            "image/png": "[encoded data removed]"
          },
          "metadata": {}
        }
      ],
      "source": [
        "sns.boxplot(train['Seats'])"
      ]
    },
    {
      "cell_type": "markdown",
      "source": [
        "##Corelation Map\n"
      ],
      "metadata": {
        "id": "e3yGS9XacOUR"
      }
    },
    {
      "cell_type": "code",
      "source": [
        "sns.heatmap(train.corr(numeric_only=True), annot=True)"
      ],
      "metadata": {
        "colab": {
          "base_uri": "https://localhost:8080/",
          "height": 565
        },
        "id": "bSiYbSVncOBP",
        "outputId": "490fb660-3816-43a1-f56d-e99a7f0cca58"
      },
      "execution_count": 110,
      "outputs": [
        {
          "output_type": "execute_result",
          "data": {
            "text/plain": [
              "<Axes: >"
            ]
          },
          "metadata": {},
          "execution_count": 110
        },
        {
          "output_type": "display_data",
          "data": {
            "text/plain": [
              "<Figure size 640x480 with 2 Axes>"
            ],
            "image/png": "[encoded data removed]"
          },
          "metadata": {}
        }
      ]
    },
    {
      "cell_type": "markdown",
      "source": [
        "Horsepower and displacement seem to have the highest impact on price out of our numerical categories."
      ],
      "metadata": {
        "id": "0WDxPbJXcXV8"
      }
    },
    {
      "cell_type": "markdown",
      "metadata": {
        "id": "vyW_E3VswRlk"
      },
      "source": [
        "##Feature Engineering"
      ]
    },
    {
      "cell_type": "code",
      "execution_count": 47,
      "metadata": {
        "id": "XT9gfqNXwiac"
      },
      "outputs": [],
      "source": [
        "X = train.drop('Price', axis=1)\n",
        "X_oe = train.drop('Price', axis=1)\n",
        "y = train['Price']"
      ]
    },
    {
      "cell_type": "code",
      "execution_count": 48,
      "metadata": {
        "colab": {
          "base_uri": "https://localhost:8080/"
        },
        "id": "PMvxddkpw9iY",
        "outputId": "a98c4282-23a1-49c9-eb26-3f25b477365d"
      },
      "outputs": [
        {
          "output_type": "stream",
          "name": "stdout",
          "text": [
            "['Year', 'Kilometers_Driven', 'Seats', 'Engine_value', 'Power_value']\n",
            "['Location', 'Fuel_Type', 'Transmission', 'Owner_Type', 'Mileage']\n"
          ]
        }
      ],
      "source": [
        "num_cols = X.select_dtypes(include=['int','float']).columns.tolist()\n",
        "cat_cols = X.select_dtypes(include=['object']).columns.tolist()\n",
        "print(num_cols)\n",
        "print(cat_cols)"
      ]
    },
    {
      "cell_type": "code",
      "execution_count": 49,
      "metadata": {
        "id": "9xRIUvizxDNp"
      },
      "outputs": [],
      "source": [
        "preprocessor = ColumnTransformer(transformers=[('num', StandardScaler(), num_cols), ('cat', OrdinalEncoder(), cat_cols)])\n",
        "ode_enc = OrdinalEncoder()"
      ]
    },
    {
      "cell_type": "code",
      "execution_count": 50,
      "metadata": {
        "id": "DRnYV4Pd5URQ"
      },
      "outputs": [],
      "source": [
        "X_txd = preprocessor.fit_transform(X)"
      ]
    },
    {
      "cell_type": "code",
      "execution_count": 51,
      "metadata": {
        "colab": {
          "base_uri": "https://localhost:8080/"
        },
        "id": "SG4Hluxr5WU0",
        "outputId": "a936c189-6fa7-4815-fc5b-d6798259b778"
      },
      "outputs": [
        {
          "output_type": "execute_result",
          "data": {
            "text/plain": [
              "array([[-1.02668356e+00,  4.39893886e-01, -3.43580503e-01, ...,\n",
              "         1.00000000e+00,  0.00000000e+00,  4.03000000e+02],\n",
              "       [ 5.02073238e-01, -4.78000068e-01, -3.43580503e-01, ...,\n",
              "         1.00000000e+00,  0.00000000e+00,  2.75000000e+02],\n",
              "       [-7.20932197e-01, -3.29952656e-01, -3.43580503e-01, ...,\n",
              "         1.00000000e+00,  0.00000000e+00,  2.32000000e+02],\n",
              "       ...,\n",
              "       [-4.15180838e-01, -6.34673145e-02,  3.37476072e+00, ...,\n",
              "         1.00000000e+00,  2.00000000e+00,  9.10000000e+01],\n",
              "       [-1.09429480e-01, -3.29952656e-01, -3.43580503e-01, ...,\n",
              "         1.00000000e+00,  0.00000000e+00,  2.53000000e+02],\n",
              "       [-7.20932197e-01, -3.00343173e-01, -3.43580503e-01, ...,\n",
              "         1.00000000e+00,  0.00000000e+00,  3.91000000e+02]])"
            ]
          },
          "metadata": {},
          "execution_count": 51
        }
      ],
      "source": [
        "X_txd"
      ]
    },
    {
      "cell_type": "code",
      "execution_count": 52,
      "metadata": {
        "id": "A5vSAutE5YOg"
      },
      "outputs": [],
      "source": [
        "X_oe[cat_cols] = ode_enc.fit_transform(X_oe[cat_cols])"
      ]
    },
    {
      "cell_type": "code",
      "execution_count": 53,
      "metadata": {
        "colab": {
          "base_uri": "https://localhost:8080/",
          "height": 424
        },
        "id": "MY4FVcg55Ys5",
        "outputId": "d7c6d950-567e-4318-e0de-28c207d1d94f"
      },
      "outputs": [
        {
          "output_type": "execute_result",
          "data": {
            "text/plain": [
              "      Location  Year  Kilometers_Driven  Fuel_Type  Transmission  Owner_Type  \\\n",
              "0          9.0  2010              72000        0.0           1.0         0.0   \n",
              "1         10.0  2015              41000        1.0           1.0         0.0   \n",
              "2          2.0  2011              46000        3.0           1.0         0.0   \n",
              "3          2.0  2012              87000        1.0           1.0         0.0   \n",
              "4          3.0  2013              40670        1.0           0.0         2.0   \n",
              "...        ...   ...                ...        ...           ...         ...   \n",
              "6014       4.0  2014              27365        1.0           1.0         0.0   \n",
              "6015       6.0  2015             100000        1.0           1.0         0.0   \n",
              "6016       6.0  2012              55000        1.0           1.0         2.0   \n",
              "6017       8.0  2013              46000        3.0           1.0         0.0   \n",
              "6018       5.0  2011              47000        1.0           1.0         0.0   \n",
              "\n",
              "      Mileage  Seats  Engine_value  Power_value  \n",
              "0       403.0    5.0         998.0        58.16  \n",
              "1       275.0    5.0        1582.0       126.20  \n",
              "2       232.0    5.0        1199.0        88.70  \n",
              "3       308.0    7.0        1248.0        88.76  \n",
              "4       135.0    5.0        1968.0       140.80  \n",
              "...       ...    ...           ...          ...  \n",
              "6014    413.0    5.0        1248.0        74.00  \n",
              "6015    377.0    5.0        1120.0        71.00  \n",
              "6016     91.0    8.0        2498.0       112.00  \n",
              "6017    253.0    5.0         998.0        67.10  \n",
              "6018    391.0    5.0         936.0        57.60  \n",
              "\n",
              "[6010 rows x 10 columns]"
            ],
            "text/html": [
              "<div>\n",
              "<style scoped>\n",
              "    .dataframe tbody tr th:only-of-type {\n",
              "        vertical-align: middle;\n",
              "    }\n",
              "\n",
              "    .dataframe tbody tr th {\n",
              "        vertical-align: top;\n",
              "    }\n",
              "\n",
              "    .dataframe thead th {\n",
              "        text-align: right;\n",
              "    }\n",
              "</style>\n",
              "<table border=\"1\" class=\"dataframe\">\n",
              "  <thead>\n",
              "    <tr style=\"text-align: right;\">\n",
              "      <th></th>\n",
              "      <th>Location</th>\n",
              "      <th>Year</th>\n",
              "      <th>Kilometers_Driven</th>\n",
              "      <th>Fuel_Type</th>\n",
              "      <th>Transmission</th>\n",
              "      <th>Owner_Type</th>\n",
              "      <th>Mileage</th>\n",
              "      <th>Seats</th>\n",
              "      <th>Engine_value</th>\n",
              "      <th>Power_value</th>\n",
              "    </tr>\n",
              "  </thead>\n",
              "  <tbody>\n",
              "    <tr>\n",
              "      <th>0</th>\n",
              "      <td>9.0</td>\n",
              "      <td>2010</td>\n",
              "      <td>72000</td>\n",
              "      <td>0.0</td>\n",
              "      <td>1.0</td>\n",
              "      <td>0.0</td>\n",
              "      <td>403.0</td>\n",
              "      <td>5.0</td>\n",
              "      <td>998.0</td>\n",
              "      <td>58.16</td>\n",
              "    </tr>\n",
              "    <tr>\n",
              "      <th>1</th>\n",
              "      <td>10.0</td>\n",
              "      <td>2015</td>\n",
              "      <td>41000</td>\n",
              "      <td>1.0</td>\n",
              "      <td>1.0</td>\n",
              "      <td>0.0</td>\n",
              "      <td>275.0</td>\n",
              "      <td>5.0</td>\n",
              "      <td>1582.0</td>\n",
              "      <td>126.20</td>\n",
              "    </tr>\n",
              "    <tr>\n",
              "      <th>2</th>\n",
              "      <td>2.0</td>\n",
              "      <td>2011</td>\n",
              "      <td>46000</td>\n",
              "      <td>3.0</td>\n",
              "      <td>1.0</td>\n",
              "      <td>0.0</td>\n",
              "      <td>232.0</td>\n",
              "      <td>5.0</td>\n",
              "      <td>1199.0</td>\n",
              "      <td>88.70</td>\n",
              "    </tr>\n",
              "    <tr>\n",
              "      <th>3</th>\n",
              "      <td>2.0</td>\n",
              "      <td>2012</td>\n",
              "      <td>87000</td>\n",
              "      <td>1.0</td>\n",
              "      <td>1.0</td>\n",
              "      <td>0.0</td>\n",
              "      <td>308.0</td>\n",
              "      <td>7.0</td>\n",
              "      <td>1248.0</td>\n",
              "      <td>88.76</td>\n",
              "    </tr>\n",
              "    <tr>\n",
              "      <th>4</th>\n",
              "      <td>3.0</td>\n",
              "      <td>2013</td>\n",
              "      <td>40670</td>\n",
              "      <td>1.0</td>\n",
              "      <td>0.0</td>\n",
              "      <td>2.0</td>\n",
              "      <td>135.0</td>\n",
              "      <td>5.0</td>\n",
              "      <td>1968.0</td>\n",
              "      <td>140.80</td>\n",
              "    </tr>\n",
              "    <tr>\n",
              "      <th>...</th>\n",
              "      <td>...</td>\n",
              "      <td>...</td>\n",
              "      <td>...</td>\n",
              "      <td>...</td>\n",
              "      <td>...</td>\n",
              "      <td>...</td>\n",
              "      <td>...</td>\n",
              "      <td>...</td>\n",
              "      <td>...</td>\n",
              "      <td>...</td>\n",
              "    </tr>\n",
              "    <tr>\n",
              "      <th>6014</th>\n",
              "      <td>4.0</td>\n",
              "      <td>2014</td>\n",
              "      <td>27365</td>\n",
              "      <td>1.0</td>\n",
              "      <td>1.0</td>\n",
              "      <td>0.0</td>\n",
              "      <td>413.0</td>\n",
              "      <td>5.0</td>\n",
              "      <td>1248.0</td>\n",
              "      <td>74.00</td>\n",
              "    </tr>\n",
              "    <tr>\n",
              "      <th>6015</th>\n",
              "      <td>6.0</td>\n",
              "      <td>2015</td>\n",
              "      <td>100000</td>\n",
              "      <td>1.0</td>\n",
              "      <td>1.0</td>\n",
              "      <td>0.0</td>\n",
              "      <td>377.0</td>\n",
              "      <td>5.0</td>\n",
              "      <td>1120.0</td>\n",
              "      <td>71.00</td>\n",
              "    </tr>\n",
              "    <tr>\n",
              "      <th>6016</th>\n",
              "      <td>6.0</td>\n",
              "      <td>2012</td>\n",
              "      <td>55000</td>\n",
              "      <td>1.0</td>\n",
              "      <td>1.0</td>\n",
              "      <td>2.0</td>\n",
              "      <td>91.0</td>\n",
              "      <td>8.0</td>\n",
              "      <td>2498.0</td>\n",
              "      <td>112.00</td>\n",
              "    </tr>\n",
              "    <tr>\n",
              "      <th>6017</th>\n",
              "      <td>8.0</td>\n",
              "      <td>2013</td>\n",
              "      <td>46000</td>\n",
              "      <td>3.0</td>\n",
              "      <td>1.0</td>\n",
              "      <td>0.0</td>\n",
              "      <td>253.0</td>\n",
              "      <td>5.0</td>\n",
              "      <td>998.0</td>\n",
              "      <td>67.10</td>\n",
              "    </tr>\n",
              "    <tr>\n",
              "      <th>6018</th>\n",
              "      <td>5.0</td>\n",
              "      <td>2011</td>\n",
              "      <td>47000</td>\n",
              "      <td>1.0</td>\n",
              "      <td>1.0</td>\n",
              "      <td>0.0</td>\n",
              "      <td>391.0</td>\n",
              "      <td>5.0</td>\n",
              "      <td>936.0</td>\n",
              "      <td>57.60</td>\n",
              "    </tr>\n",
              "  </tbody>\n",
              "</table>\n",
              "<p>6010 rows × 10 columns</p>\n",
              "</div>"
            ]
          },
          "metadata": {},
          "execution_count": 53
        }
      ],
      "source": [
        "X_oe"
      ]
    },
    {
      "cell_type": "code",
      "execution_count": 54,
      "metadata": {
        "id": "wY8Ih_sk5aDj"
      },
      "outputs": [],
      "source": [
        "label_encoder = LabelEncoder()\n",
        "y_txd = label_encoder.fit_transform(y)"
      ]
    },
    {
      "cell_type": "code",
      "execution_count": 55,
      "metadata": {
        "id": "o1KbyOU57AMz"
      },
      "outputs": [],
      "source": [
        "X_train, X_test, y_train, y_test = train_test_split(X_txd, y_txd, test_size=0.2, random_state=42)"
      ]
    },
    {
      "cell_type": "code",
      "execution_count": 56,
      "metadata": {
        "id": "CXS2e70k64g5"
      },
      "outputs": [],
      "source": [
        "X_train_oe, X_test_oe, y_train, y_test = train_test_split(X_oe, y_txd, test_size=0.2, random_state=42)"
      ]
    },
    {
      "cell_type": "markdown",
      "metadata": {
        "id": "5sUwL4gV5ffD"
      },
      "source": [
        "##Modeling"
      ]
    },
    {
      "cell_type": "code",
      "execution_count": 118,
      "metadata": {
        "colab": {
          "base_uri": "https://localhost:8080/"
        },
        "id": "9kvlQARz5bjl",
        "outputId": "552c6292-c7b4-49ba-b4f2-87766e5c1c23"
      },
      "outputs": [
        {
          "output_type": "stream",
          "name": "stdout",
          "text": [
            "MSE on Training Set (Linear Regression): 19064.28987906776\n",
            "MSE on Test Set (Linear Regression): 19326.45583456538\n"
          ]
        }
      ],
      "source": [
        "lr = LinearRegression()\n",
        "lr.fit(X_train, y_train)\n",
        "y_pred_lr_train = lr.predict(X_train)\n",
        "print(\"MSE on Training Set (Linear Regression):\", mean_squared_error(y_pred_lr_train, y_train))\n",
        "y_pred_lr_dev = lr.predict(X_test)\n",
        "print(\"MSE on Test Set (Linear Regression):\", mean_squared_error(y_pred_lr_dev, y_test))"
      ]
    },
    {
      "cell_type": "code",
      "execution_count": 120,
      "metadata": {
        "colab": {
          "base_uri": "https://localhost:8080/"
        },
        "id": "v2-qAbeh9aCa",
        "outputId": "25e68379-a480-401a-f0f0-9fd565c23615"
      },
      "outputs": [
        {
          "output_type": "stream",
          "name": "stdout",
          "text": [
            "MSE on Training Set (Decision Tree): 16807.325741327542\n",
            "MSE on Test Set (Decision Tree): 18300.701149890854\n"
          ]
        }
      ],
      "source": [
        "dt = DecisionTreeRegressor(splitter='best', max_depth=5)\n",
        "dt.fit(X_train, y_train)\n",
        "y_pred_dt_train = dt.predict(X_train)\n",
        "print(\"MSE on Training Set (Decision Tree):\", mean_squared_error(y_pred_dt_train, y_train))\n",
        "y_pred_dt_dev = dt.predict(X_test)\n",
        "print(\"MSE on Test Set (Decision Tree):\", mean_squared_error(y_pred_dt_dev, y_test))"
      ]
    },
    {
      "cell_type": "code",
      "execution_count": 59,
      "metadata": {
        "colab": {
          "base_uri": "https://localhost:8080/"
        },
        "id": "IxifpKrs9seX",
        "outputId": "de4d741b-5641-4aae-f83d-44a01f946cec"
      },
      "outputs": [
        {
          "output_type": "stream",
          "name": "stdout",
          "text": [
            "MSE on Training Set (Random Forest): 13635.224430296154\n",
            "MSE on Test Set (Random Forest): 14740.0362043666\n"
          ]
        }
      ],
      "source": [
        "rf = RandomForestRegressor(n_estimators=20, max_depth=5)\n",
        "rf.fit(X_train, y_train)\n",
        "y_pred_rf_train = rf.predict(X_train)\n",
        "\n",
        "print(\"MSE on Training Set (Random Forest):\", mean_squared_error(y_pred_rf_train, y_train))\n",
        "y_pred_rf_dev = rf.predict(X_test)\n",
        "print(\"MSE on Test Set (Random Forest):\", mean_squared_error(y_pred_rf_dev, y_test))"
      ]
    },
    {
      "cell_type": "code",
      "execution_count": 60,
      "metadata": {
        "colab": {
          "base_uri": "https://localhost:8080/"
        },
        "id": "QSwXHexj9xCi",
        "outputId": "a4a78c41-a357-494a-af64-5cdb8d950a20"
      },
      "outputs": [
        {
          "output_type": "stream",
          "name": "stdout",
          "text": [
            "0.9271779009679963\n",
            "{'bootstrap': True, 'ccp_alpha': 0.0, 'criterion': 'squared_error', 'max_depth': 15, 'max_features': 1.0, 'max_leaf_nodes': None, 'max_samples': None, 'min_impurity_decrease': 0.0, 'min_samples_leaf': 1, 'min_samples_split': 2, 'min_weight_fraction_leaf': 0.0, 'monotonic_cst': None, 'n_estimators': 30, 'n_jobs': None, 'oob_score': False, 'random_state': 42, 'verbose': 0, 'warm_start': False}\n"
          ]
        }
      ],
      "source": [
        "rf = RandomForestRegressor(random_state=42)\n",
        "\n",
        "param_grid = {\n",
        "    \"criterion\": ['squared_error', 'absolute_error'],\n",
        "    \"n_estimators\": [5, 10, 15, 20, 25, 30],\n",
        "    \"max_depth\": [5, 6, 7, 12, 13, 15]\n",
        "}\n",
        "\n",
        "rf_model = GridSearchCV(estimator=rf, cv=5, param_grid=param_grid)\n",
        "rf_model.fit(X_txd, y_txd)\n",
        "print(rf_model.best_score_)\n",
        "print(rf_model.best_estimator_.get_params())"
      ]
    },
    {
      "cell_type": "code",
      "source": [
        "y_pred_rf_train = rf_model.predict(X_train)\n",
        "print(\"MSE on Training Set (RandomForest):\", mean_squared_error(y_pred_rf_train, y_train))\n",
        "\n",
        "y_pred_rf_dev = rf_model.predict(X_test)\n",
        "print(\"MSE on Test Set (RandomForest):\", mean_squared_error(y_pred_rf_dev, y_test))"
      ],
      "metadata": {
        "colab": {
          "base_uri": "https://localhost:8080/"
        },
        "id": "TUQBN_L5IBBl",
        "outputId": "f735a7f7-c22d-4db6-de9a-ab81af9a6197"
      },
      "execution_count": 70,
      "outputs": [
        {
          "output_type": "stream",
          "name": "stdout",
          "text": [
            "MSE on Training Set (RandomForest): 1419.3949010492456\n",
            "MSE on Test Set (RandomForest): 1314.7535019351265\n"
          ]
        }
      ]
    },
    {
      "cell_type": "code",
      "execution_count": 61,
      "metadata": {
        "id": "MckYeu3A_pDg",
        "colab": {
          "base_uri": "https://localhost:8080/"
        },
        "outputId": "cb5975ee-a415-4fe7-c3f5-f51c85eb3c5b"
      },
      "outputs": [
        {
          "output_type": "stream",
          "name": "stdout",
          "text": [
            "0.9428566576167656\n",
            "{'objective': 'reg:squarederror', 'base_score': None, 'booster': 'gbtree', 'callbacks': None, 'colsample_bylevel': None, 'colsample_bynode': None, 'colsample_bytree': None, 'device': None, 'early_stopping_rounds': None, 'enable_categorical': False, 'eval_metric': None, 'feature_types': None, 'gamma': 0, 'grow_policy': None, 'importance_type': None, 'interaction_constraints': None, 'learning_rate': None, 'max_bin': None, 'max_cat_threshold': None, 'max_cat_to_onehot': None, 'max_delta_step': None, 'max_depth': 8, 'max_leaves': None, 'min_child_weight': None, 'missing': nan, 'monotone_constraints': None, 'multi_strategy': None, 'n_estimators': None, 'n_jobs': None, 'num_parallel_tree': None, 'random_state': None, 'reg_alpha': None, 'reg_lambda': None, 'sampling_method': None, 'scale_pos_weight': None, 'subsample': None, 'tree_method': None, 'validate_parameters': None, 'verbosity': None, 'alpha': 0, 'eta': 0.1, 'lambda': 1}\n"
          ]
        }
      ],
      "source": [
        "xgb = XGBoost.XGBRegressor()\n",
        "\n",
        "param_grid = {\n",
        "    \"booster\": ['gbtree', 'dart'],\n",
        "    \"eta\": [0.01, 0.06, 0.1, 0.7],\n",
        "    \"gamma\": [0, 0.5, 1],\n",
        "    \"max_depth\": [5, 8, 10, 13, 15],\n",
        "    \"lambda\": [0, 1, 2],\n",
        "    \"alpha\": [0, 1, 2]\n",
        "}\n",
        "\n",
        "xgb_model = GridSearchCV(estimator=xgb, cv=5, param_grid=param_grid)\n",
        "xgb_model.fit(X_txd, y_txd)\n",
        "\n",
        "print(xgb_model.best_score_)\n",
        "print(xgb_model.best_estimator_.get_params())"
      ]
    },
    {
      "cell_type": "code",
      "execution_count": 62,
      "metadata": {
        "id": "xpI3Ad25AGrI",
        "colab": {
          "base_uri": "https://localhost:8080/"
        },
        "outputId": "bd85f9b8-c72c-4f2a-8700-ba259f805749"
      },
      "outputs": [
        {
          "output_type": "stream",
          "name": "stdout",
          "text": [
            "MSE on Training Set (XGBoost): 1031.1162028972085\n",
            "MSE on Test Set (XGBoost): 1027.1074465164004\n"
          ]
        }
      ],
      "source": [
        "y_pred_xg_train = xgb_model.predict(X_train)\n",
        "print(\"MSE on Training Set (XGBoost):\", mean_squared_error(y_pred_xg_train, y_train))\n",
        "\n",
        "y_pred_xg_dev = xgb_model.predict(X_test)\n",
        "print(\"MSE on Test Set (XGBoost):\", mean_squared_error(y_pred_xg_dev, y_test))"
      ]
    },
    {
      "cell_type": "markdown",
      "source": [
        "##Evaluation\n",
        "To evaluate each model we will be comparing their mean squared errors. We want to look for the model with the lowest MSE as this means we were able to predict the price with the lowest distribution of error. A higher MSE means our predicted prices were off by larger amounts on average while a smaller MSE shows that our model was accurate to a higher degree."
      ],
      "metadata": {
        "id": "m9B2INy5iu3X"
      }
    },
    {
      "cell_type": "code",
      "source": [
        "models = ['Linear Regression', 'Decision Tree', 'Random Forest', 'XGBoost']\n",
        "scores = {'Train MSE': [mean_squared_error(y_pred_lr_train, y_train),mean_squared_error(y_pred_dt_train, y_train),mean_squared_error(y_pred_rf_train, y_train),mean_squared_error(y_pred_xg_train, y_train)],\n",
        "          'Test MSE': [mean_squared_error(y_pred_lr_dev, y_test),mean_squared_error(y_pred_dt_dev, y_test),mean_squared_error(y_pred_rf_dev, y_test),mean_squared_error(y_pred_xg_dev, y_test)]\n",
        "          }\n",
        "acc = [lr.score(X_test,y_test), dt.score(X_test,y_test), rf_model.best_score_, xgb_model.best_score_]\n",
        "scores = pd.DataFrame(scores)\n"
      ],
      "metadata": {
        "id": "5sP9sIwWdNjt"
      },
      "execution_count": 139,
      "outputs": []
    },
    {
      "cell_type": "code",
      "source": [
        "x = np.arange(len(models))\n",
        "width = 0.3\n",
        "multiplier = 0\n",
        "\n",
        "\n",
        "fig, ax = plt.subplots()\n",
        "\n",
        "fig.set_size_inches(8, 5)\n",
        "for types, val in scores.items():\n",
        "    offset = width * multiplier\n",
        "    rects = ax.bar(x + offset, val, width, label=types)\n",
        "    multiplier += 1\n",
        "\n",
        "ax.set_ylabel('MSE')\n",
        "ax.set_title('Model Comparison')\n",
        "ax.set_xticks(x + 0.3, models)\n",
        "\n",
        "\n",
        "ax1 = ax.twinx()\n",
        "ax1.bar(x + 0.6, acc, width, label='Accuracy',color = 'green')\n",
        "fig.legend(loc='upper left', ncols=3)\n",
        "ax1.set_ylabel('Score')\n",
        "plt.show()"
      ],
      "metadata": {
        "colab": {
          "base_uri": "https://localhost:8080/",
          "height": 498
        },
        "id": "1s9XVvq5Zj8j",
        "outputId": "0fc6b626-5b6c-4f83-ac4a-1a7b55140549"
      },
      "execution_count": 161,
      "outputs": [
        {
          "output_type": "display_data",
          "data": {
            "text/plain": [
              "<Figure size 800x500 with 2 Axes>"
            ],
            "image/png": "[encoded data removed]"
          },
          "metadata": {}
        }
      ]
    },
    {
      "cell_type": "markdown",
      "source": [
        "From here we can see that XGBoost performed the best, slightly beating out Random Forest in accuracy, but significantly in both train and test MSE. This however came at the cost of training time. XGBoost took a significantly longer time than any other model to train. It is up to the user whether to use Random Forest or XGBoost depending on what they value more."
      ],
      "metadata": {
        "id": "3h-zEQ7jhcVT"
      }
    }
  ],
  "metadata": {
    "colab": {
      "provenance": [],
      "toc_visible": true
    },
    "kernelspec": {
      "display_name": "Python (GPU)",
      "language": "python",
      "name": "gpu_env"
    },
    "language_info": {
      "codemirror_mode": {
        "name": "ipython",
        "version": 3
      },
      "file_extension": ".py",
      "mimetype": "text/x-python",
      "name": "python",
      "nbconvert_exporter": "python",
      "pygments_lexer": "ipython3",
      "version": "3.12.4"
    }
  },
  "nbformat": 4,
  "nbformat_minor": 0
}